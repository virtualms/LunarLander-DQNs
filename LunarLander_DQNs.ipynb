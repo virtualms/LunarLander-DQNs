{
  "nbformat": 4,
  "nbformat_minor": 0,
  "metadata": {
    "colab": {
      "name": "[Stanzione]LunarLander-DQNs.ipynb",
      "provenance": [],
      "collapsed_sections": [],
      "toc_visible": true,
      "mount_file_id": "16mVL9InAVCMOqHCLeMQC8SuMb9xcpCRf",
      "authorship_tag": "ABX9TyM/Kp1qoP4JfgHwyEnIw/Dp",
      "include_colab_link": true
    },
    "kernelspec": {
      "name": "python3",
      "display_name": "Python 3"
    },
    "language_info": {
      "name": "python"
    },
    "accelerator": "GPU"
  },
  "cells": [
    {
      "cell_type": "markdown",
      "metadata": {
        "id": "view-in-github",
        "colab_type": "text"
      },
      "source": [
        "<a href=\"https://colab.research.google.com/github/virtualms/LunarLander-DQNs/blob/main/LunarLander_DQNs.ipynb\" target=\"_parent\"><img src=\"https://colab.research.google.com/assets/colab-badge.svg\" alt=\"Open In Colab\"/></a>"
      ]
    },
    {
      "cell_type": "markdown",
      "metadata": {
        "id": "y3QnatgL25xx"
      },
      "source": [
        "# **A comparison between 5 DQN variants on LunarLander-v2 environment**"
      ]
    },
    {
      "cell_type": "markdown",
      "metadata": {
        "id": "XA79REffUnGw"
      },
      "source": [
        "The aim of this project is to experiment some DQN variants on [LunarLander-v2](https://github.com/openai/gym/wiki/Leaderboard#lunarlander-v2) environment, offered by [gym.openai](https://gym.openai.com/). In particular, the variants that will be implemented and compared (refer also to the report of the project) are:\n",
        "* [DQN](https://arxiv.org/abs/1312.5602)\n",
        "* [DQN with target network (Fixed Q-Targets)](https://www.nature.com/articles/nature14236)\n",
        "* [Double DQN (DDQN)](https://arxiv.org/abs/1509.06461)\n",
        "* [Dueling DQN](https://arxiv.org/abs/1511.06581)\n",
        "* [Dueling Double DQN (D3QN)](https://ieeexplore.ieee.org/document/8483478)\n",
        "\n",
        "In all the reported versions, an experience replay was implemented. For the project, I was also inspired by the work done in the [Rainbow paper](https://arxiv.org/abs/1710.02298) by DeepMind."
      ]
    },
    {
      "cell_type": "markdown",
      "metadata": {
        "id": "qydH5DtL3CzI"
      },
      "source": [
        "**Setup the environment**"
      ]
    },
    {
      "cell_type": "markdown",
      "metadata": {
        "id": "xgP7ldUV4Jqm"
      },
      "source": [
        "First of all, we will start installing the needed dependencies to run the code on Colab environment."
      ]
    },
    {
      "cell_type": "code",
      "metadata": {
        "id": "335mMsM-jsMA"
      },
      "source": [
        "!(apt update && apt install xvfb ffmpeg python-opengl -y) > /dev/null 2>&1\n",
        "!pip install gym-notebook-wrapper > /dev/null 2>&1\n",
        "!pip3 install box2d-py > /dev/null 2>&1\n",
        "!pip install gym[Box2D] > /dev/null 2>&1"
      ],
      "execution_count": null,
      "outputs": []
    },
    {
      "cell_type": "markdown",
      "metadata": {
        "id": "jIjCR9b14ddF"
      },
      "source": [
        "Then we perform the import of the needed libraries and we check if we are running tf/keras on GPU."
      ]
    },
    {
      "cell_type": "code",
      "metadata": {
        "id": "aCf29kQ8Ia5v",
        "colab": {
          "base_uri": "https://localhost:8080/"
        },
        "outputId": "d6e20280-2cf1-49af-e430-c36fb5bd26fc"
      },
      "source": [
        "import os\n",
        "os.environ['CUDA_VISIBLE_DEVICES'] = '0'\n",
        "\n",
        "import gym\n",
        "import gnwrapper\n",
        "\n",
        "import tensorflow as tf\n",
        "import matplotlib.pyplot as plt\n",
        "\n",
        "from tensorflow import keras\n",
        "from keras import Sequential\n",
        "from keras.layers import Conv2D, Flatten, Dense, Input, InputLayer\n",
        "from tensorflow.keras.models import Model\n",
        "from keras.optimizers import Adam\n",
        "\n",
        "import random\n",
        "import pandas as pd\n",
        "import numpy as np\n",
        "from collections import deque\n",
        "import time\n",
        "import random\n",
        "\n",
        "#check tf on GPU\n",
        "#https://stackoverflow.com/questions/38009682/how-to-tell-if-tensorflow-is-using-gpu-acceleration-from-inside-python-shell\n",
        "print(\"GPUs Available: \", len(tf.config.list_physical_devices('GPU')))\n",
        "sess = tf.compat.v1.Session(config=tf.compat.v1.ConfigProto(log_device_placement=True))\n",
        "print(sess)\n",
        "\n",
        "#debug mode, what runs on gpu\n",
        "#tf.debugging.set_log_device_placement(True)\n",
        "\n",
        "#explicit GPU for keras\n",
        "#config = tf.compat.v1.ConfigProto( device_count = {'GPU': 1 } ) \n",
        "#sess = tf.compat.v1.Session(config=config) \n",
        "#tf.compat.v1.keras.backend.set_session(sess)"
      ],
      "execution_count": null,
      "outputs": [
        {
          "output_type": "stream",
          "text": [
            "GPUs Available:  1\n",
            "Device mapping:\n",
            "/job:localhost/replica:0/task:0/device:GPU:0 -> device: 0, name: Tesla T4, pci bus id: 0000:00:04.0, compute capability: 7.5\n",
            "\n",
            "<tensorflow.python.client.session.Session object at 0x7f93dd253fd0>\n"
          ],
          "name": "stdout"
        }
      ]
    },
    {
      "cell_type": "markdown",
      "metadata": {
        "id": "k5HFvqLVkLAI"
      },
      "source": [
        "# **Inspecting gym**"
      ]
    },
    {
      "cell_type": "markdown",
      "metadata": {
        "id": "YL3SgZL6j9Qk"
      },
      "source": [
        "**Environment**"
      ]
    },
    {
      "cell_type": "code",
      "metadata": {
        "id": "CT08EbmFkEVI"
      },
      "source": [
        "ENVIRONMENT = 'LunarLander-v2'\n",
        "PATH='/content/media/LunarLander-v2'"
      ],
      "execution_count": null,
      "outputs": []
    },
    {
      "cell_type": "code",
      "metadata": {
        "id": "sCbnkcSYkPsQ"
      },
      "source": [
        "env = gnwrapper.Monitor(gym.make(ENVIRONMENT), PATH)"
      ],
      "execution_count": null,
      "outputs": []
    },
    {
      "cell_type": "markdown",
      "metadata": {
        "id": "FO_GOpyD5Ap5"
      },
      "source": [
        "Setting all the seeds for deterministic results."
      ]
    },
    {
      "cell_type": "code",
      "metadata": {
        "id": "9kLBQdNNVXGx"
      },
      "source": [
        "seed = 42\n",
        "\n",
        "os.environ['PYTHONHASHSEED']=str(seed)\n",
        "random.seed(seed)\n",
        "env.seed(seed)\n",
        "tf.random.set_seed(seed)\n",
        "np.random.seed(seed)\n",
        "\n",
        "#https://stackoverflow.com/questions/50659482/why-cant-i-get-reproducible-results-in-keras-even-though-i-set-the-random-seeds\n",
        "session_conf = tf.compat.v1.ConfigProto(intra_op_parallelism_threads=1, inter_op_parallelism_threads=1)\n",
        "sess = tf.compat.v1.Session(graph=tf.compat.v1.get_default_graph(), config=session_conf)\n",
        "tf.compat.v1.keras.backend.set_session(sess)"
      ],
      "execution_count": null,
      "outputs": []
    },
    {
      "cell_type": "markdown",
      "metadata": {
        "id": "luFTM0M85IHh"
      },
      "source": [
        "Now we inspect \"LunarLander\" environment. Quoting the official repository:\n",
        "\n",
        "**Landing pad** is always at coordinates (0,0). \n",
        "\n",
        "Coordinates are the first two numbers in state vector. Reward for moving from the top of the screen to landing pad and zero speed is about 100..140 points. If lander moves away from landing pad it loses reward back. \n",
        "\n",
        "Episode finishes if the lander crashes or comes to rest, receiving additional -100 or +100 points. Each leg ground contact is +10. Firing main engine is -0.3 points each frame. Solved is **200 points**. Landing outside landing pad is possible. Fuel is infinite, so an agent can learn to fly and then land on its first attempt. \n",
        "\n",
        "**Four discrete actions available**: \n",
        "* (0) do nothing\n",
        "* (1) fire left\n",
        "* (2) fire main engine\n",
        "* (3) fire right \n",
        "\n",
        "LunarLander-v2 defines **solving** as getting average **reward of 200 over 100 consecutive trials**.\n"
      ]
    },
    {
      "cell_type": "code",
      "metadata": {
        "id": "xy4nU8hAkTgv"
      },
      "source": [
        "OBSERVATION_SPACE = env.observation_space\n",
        "INPUT_SHAPE = env.observation_space.shape\n",
        "N_OUTS = env.action_space.n\n",
        "ACTION_SPACE = env.action_space"
      ],
      "execution_count": null,
      "outputs": []
    },
    {
      "cell_type": "code",
      "metadata": {
        "colab": {
          "base_uri": "https://localhost:8080/"
        },
        "id": "rianJuI8kVlj",
        "outputId": "1f7f9022-cc78-4a76-a7db-9c06deb8ca2f"
      },
      "source": [
        "print(\"OBSERVATION_SPACE: \" + str(OBSERVATION_SPACE))\n",
        "print(\"ACTION_SPACE: \" + str(ACTION_SPACE))\n",
        "print(\"N_OUTS: \" + str(N_OUTS))\n",
        "print(\"INPUT_SHAPE: \" + str(INPUT_SHAPE))"
      ],
      "execution_count": null,
      "outputs": [
        {
          "output_type": "stream",
          "text": [
            "OBSERVATION_SPACE: Box(-inf, inf, (8,), float32)\n",
            "ACTION_SPACE: Discrete(4)\n",
            "N_OUTS: 4\n",
            "INPUT_SHAPE: (8,)\n"
          ],
          "name": "stdout"
        }
      ]
    },
    {
      "cell_type": "markdown",
      "metadata": {
        "id": "v90Jwar56qEZ"
      },
      "source": [
        "About the **state**:\n",
        "1. is the horizontal coordinate\n",
        "2. is the vertical coordinate\n",
        "3. is the horizontal speed\n",
        "4. is the vertical speed\n",
        "5. is the angle\n",
        "6. is the angular speed\n",
        "7. 1 if first leg has contact, else 0\n",
        "8. 1 if second leg has contact, else 0"
      ]
    },
    {
      "cell_type": "markdown",
      "metadata": {
        "id": "pVqRACsNlBd7"
      },
      "source": [
        "Now let's see and RGB image of the starting state."
      ]
    },
    {
      "cell_type": "code",
      "metadata": {
        "colab": {
          "base_uri": "https://localhost:8080/"
        },
        "id": "K9oPI4LqlC9M",
        "outputId": "457cac1b-aa17-4a5b-d6d1-17d98fb7d983"
      },
      "source": [
        "obs = env.reset()\n",
        "plt.imshow(env.render(mode='rgb_array'))\n",
        "plt.show()"
      ],
      "execution_count": null,
      "outputs": [
        {
          "output_type": "display_data",
          "data": {
            "image/png": "[encoded data removed]",
            "text/plain": [
              "<Figure size 432x288 with 1 Axes>"
            ]
          },
          "metadata": {
            "tags": [],
            "needs_background": "light"
          }
        }
      ]
    },
    {
      "cell_type": "markdown",
      "metadata": {
        "id": "gVpgX1BSlo3s"
      },
      "source": [
        "# **DQN classes definition**"
      ]
    },
    {
      "cell_type": "markdown",
      "metadata": {
        "id": "YcyCCFu3KvYo"
      },
      "source": [
        "In this section we are going to implement the classes needed for the training phase of all previously exposed variants.\n",
        "\n",
        "In particular, the code is structured as follows:\n",
        "\n",
        "\n",
        "* `create_model()` and `create_dueling_model()` are the methods used to create the NNs for the DQNs.\n",
        "\n",
        "* `DQNBase` is the base class for all other classes (DQN, DDQN). It implements utility methods (such as save, load, run_training, train_batch) that are common to all implementations. DQN and DDQN inherit from DQNbase and redefine only the `get_targets_correction()` and `update_models()` methods.\n",
        "\n",
        "* `DQN` implements the [DQN structure](https://arxiv.org/abs/1312.5602) and offers also the possibility to use an additional target model with flag `target_model=True` like exposed [here](https://www.nature.com/articles/nature14236) from DeepMind (Fixed Q-Targets)\n",
        "\n",
        "* `DDQN` implements the [Double DQN (DDQN) structure](https://arxiv.org/abs/1509.06461)\n",
        "\n",
        "All the classes accept as compulsory parameter the function used to build the model. This consent to switch easily from \"classic\" architecture to the dueling architecture (passing as parameter `create_dueling_model()`). In this way is possibible to obtain dueling architecture for DQN and DDQN classes without changing anything in the code.\n"
      ]
    },
    {
      "cell_type": "code",
      "metadata": {
        "id": "asysm0vEJZ6X"
      },
      "source": [
        "#LEARNING_RATE = 0.0003\n",
        "#LEARNING_RATE = 0.001\n",
        "LEARNING_RATE = 0.0005\n",
        "\n",
        "#create the NN model\n",
        "def create_model(lr=LEARNING_RATE):\n",
        "  model = Sequential()\n",
        "\n",
        "  model.add(InputLayer(INPUT_SHAPE))\n",
        "  model.add(Dense(128, activation=\"relu\"))\n",
        "  model.add(Dense(64, activation=\"relu\"))\n",
        "  model.add(Dense(32, activation=\"relu\"))\n",
        "\n",
        "  model.add(Dense(N_OUTS, activation=\"linear\"))\n",
        "\n",
        "  model.compile(loss=\"mse\", optimizer=Adam(learning_rate=lr))\n",
        "\n",
        "  #print(model.summary())\n",
        "\n",
        "  return model"
      ],
      "execution_count": null,
      "outputs": []
    },
    {
      "cell_type": "markdown",
      "metadata": {
        "id": "u9YZbtnsbuzm"
      },
      "source": [
        "**DQNbase definition**"
      ]
    },
    {
      "cell_type": "code",
      "metadata": {
        "id": "bV21UquYGcWe"
      },
      "source": [
        "class DQNbase:\n",
        "  def __init__(self,\n",
        "               create_model,\n",
        "               replay_buffer_size = 100000,\n",
        "               replay_buffer_mins = 128,\n",
        "               episodes_max = 500,\n",
        "               discount = 0.99,\n",
        "               epsilon = 1,\n",
        "               epsilon_min = 0.01,\n",
        "               epsilon_decay = 0.9995,\n",
        "               batch_size = 64,\n",
        "               environment = \"LunarLander-v2\",\n",
        "               n_actions = 4\n",
        "               ):\n",
        "\n",
        "    #constants definition\n",
        "    self.replay_buffer_size = replay_buffer_size\n",
        "    self.replay_buffer_mins = replay_buffer_mins\n",
        "    self.episodes_max = episodes_max\n",
        "    self.discount = discount #gamma\n",
        "\n",
        "    self.epsilon = epsilon\n",
        "    self.epsilon_min = epsilon_min\n",
        "    self.epsilon_decay = epsilon_decay\n",
        "\n",
        "    self.batch_size = batch_size\n",
        "\n",
        "    self.environment = environment\n",
        "    self.n_actions = n_actions\n",
        "    \n",
        "    #main model\n",
        "    self.model = create_model()\n",
        "    self.create_model = create_model\n",
        "\n",
        "    #replay buffer\n",
        "    self.replay_buffer = deque(maxlen=self.replay_buffer_size)\n",
        "\n",
        "    \n",
        "  #return trained\n",
        "  def get_model(self):\n",
        "    # return tf.keras.models.clone_model(self.model)\n",
        "    return self.model\n",
        "\n",
        "  #save the model in .h5\n",
        "  def save(self, path):\n",
        "    if path is None:\n",
        "      self.model.save(self.environment + \".h5\")\n",
        "    else:\n",
        "      self.model.save(path)\n",
        "\n",
        "  #load the model from saved .h5\n",
        "  def load(self, path=\"./LunarLander-v2\"):\n",
        "    self.model = keras.models.load_model(path)\n",
        "\n",
        "####Utility functions####\n",
        "  def get_qs(self, state):\n",
        "    #(8) --> (1, 8)\n",
        "    reshaped = tf.expand_dims(state, axis=0)\n",
        "    return self.model.predict(reshaped)\n",
        "\n",
        "  #e-greedy policy\n",
        "  def e_greedy_action(self, state):\n",
        "    if np.random.rand() < self.epsilon:\n",
        "      return np.random.randint(0, self.n_actions)\n",
        "    else:\n",
        "      q_s = self.get_qs(state)\n",
        "      return np.argmax(q_s)\n",
        "\n",
        "  #perform the epsilon decay\n",
        "  def perform_epsilon_decay(self):\n",
        "    if self.epsilon > self.epsilon_min:\n",
        "      self.epsilon = max(self.epsilon_min, self.epsilon * self.epsilon_decay)\n",
        "\n",
        "  #sample randomly from the replay buffer with certain batch_size\n",
        "  #returns also batch tuple for compatibility with previous code\n",
        "  def sample_buffer(self):\n",
        "    \n",
        "    #random batch from replay buffer\n",
        "    indices = np.random.randint(low=0, high=len(self.replay_buffer), size=self.batch_size)\n",
        "    batch = [self.replay_buffer[i] for i in indices]\n",
        "\n",
        "    states = []\n",
        "    actions = []\n",
        "    rewards = []\n",
        "    next_states = []\n",
        "    dones = []\n",
        "\n",
        "    for el in batch:\n",
        "      states.append(el[0])\n",
        "      actions.append(el[1])\n",
        "      rewards.append(el[2])\n",
        "      next_states.append(el[3])\n",
        "      dones.append(el[4])\n",
        "\n",
        "    return batch, states, actions, rewards, next_states, dones\n",
        "\n",
        "\n",
        "  #compute the corrections to apply using .fit for the model\n",
        "  def get_targets_corrections(self, cs, ns, rewards, actions, dones):\n",
        "    current_qs = self.model.predict_on_batch(cs)\n",
        "    future_qs = self.model.predict_on_batch(ns)\n",
        "\n",
        "    #non-optimized way\n",
        "    ##################################################################################################################\n",
        "\n",
        "    #compute target and weight update\n",
        "    #i=0 #enumerate\n",
        "    #new_q=0\n",
        "    #targets = []\n",
        "    \n",
        "    #for current_state, action, reward, next_state, done in batch:\n",
        "    #  if done:\n",
        "    #    new_q = reward\n",
        "    #  else:\n",
        "        #for batch number i\n",
        "    #    new_q = reward + self.discount * np.max(future_qs[i])\n",
        "\n",
        "      #obtain qs values for this batch\n",
        "    #  qs = current_qs[i]\n",
        "\n",
        "      #update q value relative to the action done\n",
        "    #  qs[action] = new_q\n",
        "    #  targets.append(qs)\n",
        "\n",
        "    #  i=i+1\n",
        "    #end\n",
        "\n",
        "    #self.model.fit(cs, np.array(targets), batch_size=self.batch_size, verbose=0)\n",
        "\n",
        "    ###########################################################################################################\n",
        "\n",
        "    #optimized using numpy, classic DQN\n",
        "    targets = np.array(rewards) + self.discount * (np.amax(np.array(future_qs), axis=1)) * (1 - np.array(dones))\n",
        "    targets_corrections = current_qs\n",
        "    targets_corrections[ [i for i in range(self.batch_size)] , [np.array(actions)]] = targets\n",
        "\n",
        "    return targets_corrections\n",
        "\n",
        "\n",
        "  ###train the model with a single batch###\n",
        "  def train_batch(self):\n",
        "    \n",
        "    #start training only if we have at least replay_buffer_mins samples\n",
        "    if len(self.replay_buffer) < self.replay_buffer_mins:\n",
        "        return\n",
        "    \n",
        "    _, current_states, actions, rewards, next_states, dones = self.sample_buffer()\n",
        "\n",
        "    #np.squeeze needed to reduce the dimension of the np.array obtained (batch_size, 8, 1) --> (batch_size, 8)\n",
        "    #See https://numpy.org/doc/stable/reference/generated/numpy.squeeze.html\n",
        "    cs = np.squeeze(np.array(current_states))\n",
        "    ns = np.squeeze(np.array(next_states))\n",
        "\n",
        "    #compute the corrections to apply\n",
        "    targets_corrections = self.get_targets_corrections(cs, ns, rewards, actions, dones)\n",
        "\n",
        "    #apply the corrections\n",
        "    self.model.fit(cs, np.array(targets_corrections), batch_size=self.batch_size, verbose=0)\n",
        "\n",
        "  #funcion needed for DQN + target model and DDQN\n",
        "  #updates target model (Hard/Soft update)\n",
        "  def update_models(self):\n",
        "      #here is not useful\n",
        "      return\n",
        "\n",
        "  ###training algorithm###\n",
        "  def run_training(self, env):\n",
        "    \n",
        "    #gathering training information: Reward History, Number of steps history, Mean Reward last (100|50|25) steps\n",
        "    reward_history = []\n",
        "    step_history = []\n",
        "    mean_100h = []\n",
        "    mean_50h = []\n",
        "    mean_25h = []\n",
        "\n",
        "    #training for self.episodes_max episodes\n",
        "    for episode in range(1, self.episodes_max + 1):\n",
        "      \n",
        "      #end - start\n",
        "      start = time.time()\n",
        "\n",
        "      #gathering rewards and steps\n",
        "      episode_reward = 0\n",
        "      steps = 0\n",
        "\n",
        "      #reset the environment to initial state\n",
        "      current_state = env.reset()\n",
        "      done=False\n",
        "      \n",
        "      while not done:\n",
        "        #select action with e-greedy\n",
        "        action = self.e_greedy_action(np.array(current_state))\n",
        "        new_state, reward, done, _ = env.step(action)\n",
        "        \n",
        "        #get total roward for episode\n",
        "        episode_reward += reward\n",
        "\n",
        "        #add exp to replay_buffer\n",
        "        transition = (current_state, action, reward, new_state, done)\n",
        "        self.replay_buffer.append(transition)\n",
        "\n",
        "        #train on a single batch\n",
        "        self.train_batch()\n",
        "\n",
        "        #update models if needed\n",
        "        self.update_models()\n",
        "\n",
        "        #perform decay\n",
        "        self.perform_epsilon_decay()\n",
        "\n",
        "        #update s to st+1\n",
        "        current_state = new_state\n",
        "        steps = steps+1\n",
        "\n",
        "\n",
        "      #end of episode\n",
        "      end = time.time() - start\n",
        "\n",
        "      reward_history.append(episode_reward)\n",
        "      step_history.append(steps)\n",
        "\n",
        "      mean_100 = np.mean(np.array(reward_history)[-100:])\n",
        "      mean_50 = np.mean(np.array(reward_history)[-50:])\n",
        "      mean_25 = np.mean(np.array(reward_history)[-25:])\n",
        "\n",
        "      mean_100h.append(mean_100)\n",
        "      mean_50h.append(mean_50)\n",
        "      mean_25h.append(mean_25)\n",
        "\n",
        "      print(\"Episode: {:4}/{} ({:6.2f}s). TotReward: {:7.2f}.   Mean Reward (100|50|25 ep): [{:7.2f}|{:7.2f}|{:7.2f}]   Steps: {:4}.   Eps: {:1.2f}\"\\\n",
        "          .format(episode, self.episodes_max, end, episode_reward, mean_100, mean_50, mean_25, steps, self.epsilon))\n",
        "      \n",
        "      #printm()\n",
        "    return reward_history, mean_100h, mean_50h, mean_25h, step_history\n",
        "\n",
        "\n",
        "\n",
        "  ###test a model###\n",
        "  def test(self, env, path=None, render=False, verbose=True):\n",
        "    \n",
        "    if path is not None:\n",
        "      self.load(path)\n",
        "\n",
        "    for ep in range(self.episodes_max):\n",
        "      state = env.reset()\n",
        "      #(8) --> (1,8)\n",
        "      state = tf.expand_dims(state, axis=0)\n",
        "      done = False\n",
        "\n",
        "      steps=0\n",
        "      cum_reward=0\n",
        "      while not done:\n",
        "        \n",
        "        if render:\n",
        "          env.render()\n",
        "        \n",
        "        a = np.argmax(self.model.predict(state))\n",
        "        next_state, reward, done, _ = env.step(a)\n",
        "        steps = steps + 1\n",
        "        cum_reward += reward\n",
        "        state = tf.expand_dims(next_state, axis=0)\n",
        "\n",
        "        if done and verbose:\n",
        "            print(\"Episode: \" + str(ep) + \", Reward: \" + str(cum_reward))\n",
        "            break"
      ],
      "execution_count": null,
      "outputs": []
    },
    {
      "cell_type": "markdown",
      "metadata": {
        "id": "dUFUVpwPINhQ"
      },
      "source": [
        "**DQN with target network definition**"
      ]
    },
    {
      "cell_type": "code",
      "metadata": {
        "id": "tmIjX3QGIQKq"
      },
      "source": [
        "class DQN(DQNbase):\n",
        "  def __init__(self,\n",
        "                create_model,\n",
        "                replay_buffer_size = 100000,\n",
        "                replay_buffer_mins = 128,\n",
        "                episodes_max = 500,\n",
        "                discount = 0.99,\n",
        "                epsilon = 1,\n",
        "                epsilon_min = 0.01,\n",
        "                epsilon_decay = 0.9995,\n",
        "                batch_size = 64,\n",
        "                environment = \"LunarLander-v2\",\n",
        "                n_actions = 4,\n",
        "                target_model = False):\n",
        "\n",
        "      super().__init__(\n",
        "                create_model,\n",
        "                replay_buffer_size,\n",
        "                replay_buffer_mins,\n",
        "                episodes_max,\n",
        "                discount,\n",
        "                epsilon,\n",
        "                epsilon_min,\n",
        "                epsilon_decay,\n",
        "                batch_size,\n",
        "                environment,\n",
        "                n_actions)\n",
        "        \n",
        "      #target model\n",
        "      if target_model:\n",
        "          self.have_target_model = True\n",
        "          self.target_model = create_model()\n",
        "          self.target_model.set_weights(self.model.get_weights())\n",
        "          self.target_update_counter = 0\n",
        "          self.target_update_frequency = 100\n",
        "      else:\n",
        "          self.have_target_model = False\n",
        "    \n",
        "  #load the model\n",
        "  def load(self, path=\"./LunarLander-v2.h5\"):\n",
        "    self.model = tf.keras.models.load_model(path)\n",
        "\n",
        "    if self.have_target_model:\n",
        "        self.target_model = tf.keras.models.load_model(path)\n",
        "\n",
        "  #corrections definition\n",
        "  def get_targets_corrections(self, cs, ns, rewards, actions, dones):\n",
        "    current_qs = self.model.predict_on_batch(cs)\n",
        "    \n",
        "    if not self.have_target_model:\n",
        "      future_qs = self.model.predict_on_batch(ns)\n",
        "    else:\n",
        "      future_qs = self.target_model.predict_on_batch(ns)\n",
        "\n",
        "    #np-optimized version to compute target for the update\n",
        "    targets = np.array(rewards) + self.discount * (np.amax(np.array(future_qs), axis=1)) * (1 - np.array(dones))\n",
        "    targets_corrections = current_qs\n",
        "    targets_corrections[ [i for i in range(self.batch_size)] , [np.array(actions)]] = targets\n",
        "\n",
        "    return targets_corrections\n",
        "\n",
        "\n",
        "  def update_models(self):\n",
        "    if self.have_target_model:\n",
        "        self.target_update_counter += 1\n",
        "\n",
        "        if self.target_update_counter >= self.target_update_frequency:\n",
        "           self.target_model.set_weights(self.model.get_weights())       \n",
        "           self.target_update_counter = 0\n"
      ],
      "execution_count": null,
      "outputs": []
    },
    {
      "cell_type": "markdown",
      "metadata": {
        "id": "CFQG6XQNI3s2"
      },
      "source": [
        "**DDQN definition**"
      ]
    },
    {
      "cell_type": "code",
      "metadata": {
        "id": "36qwAYZrI49w"
      },
      "source": [
        "class DDQN(DQNbase):\n",
        "    def __init__(self, \n",
        "                create_model,\n",
        "                replay_buffer_size = 100000,\n",
        "                replay_buffer_mins = 128,\n",
        "                episodes_max = 500,\n",
        "                discount = 0.99,\n",
        "                epsilon = 1,\n",
        "                epsilon_min = 0.01,\n",
        "                epsilon_decay = 0.9995,\n",
        "                batch_size = 64,\n",
        "                environment = \"LunarLander-v2\",\n",
        "                n_actions = 4,\n",
        "                soft_update=False,\n",
        "                tau=0.1):\n",
        "\n",
        "\n",
        "      super().__init__(\n",
        "                    create_model, \n",
        "                    replay_buffer_size,\n",
        "                    replay_buffer_mins,\n",
        "                    episodes_max,\n",
        "                    discount,\n",
        "                    epsilon,\n",
        "                    epsilon_min,\n",
        "                    epsilon_decay,\n",
        "                    batch_size,\n",
        "                    environment,\n",
        "                    n_actions)\n",
        "\n",
        "      #for soft update\n",
        "      self.soft_update = soft_update\n",
        "      self.tau = 0.1 #experimental\n",
        "\n",
        "      #target model\n",
        "      self.target_model = create_model()\n",
        "      self.target_model.set_weights(self.model.get_weights())\n",
        "      self.target_update_counter = 0\n",
        "      self.target_update_frequency = 100\n",
        "    \n",
        "    \n",
        "    def load(path):\n",
        "        self.model = keras.models.load_model(path)\n",
        "        self.target_model = keras.models.load_model(path)\n",
        "\n",
        "    #corrections definition\n",
        "    def get_targets_corrections(self, cs, ns, rewards, actions, dones):\n",
        "\n",
        "      #ddqn target\n",
        "      #model-->qmodel\n",
        "      qmodel_qs = self.model.predict_on_batch(cs)\n",
        "      qmodel_max_actions = np.argmax(self.model.predict_on_batch(ns), axis=1)\n",
        "\n",
        "      #(64,4)\n",
        "      tmodel_qs = self.target_model.predict_on_batch(ns)\n",
        "      \n",
        "      #array, indexes to take --> equivalent to tmodel_qs[i][qmodel_max_actions[i]]\n",
        "      #for each row, give me the q-value of the previous computed max-action(s)\n",
        "      #https://numpy.org/doc/stable/reference/generated/numpy.take.html\n",
        "      tmodel_qs_update = np.array([ np.take(tmodel_qs[i], qmodel_max_actions[i]) for i in range(self.batch_size) ])\n",
        "      #tmodel_qs_update = tmodel_qs[qmodel_max_actions]\n",
        "\n",
        "      #compute target for the update\n",
        "      targets = np.array(rewards) + self.discount * tmodel_qs_update * (1 - np.array(dones))\n",
        "      targets_corrections = qmodel_qs\n",
        "      targets_corrections[ [i for i in range(self.batch_size)] , [np.array(actions)]] = targets\n",
        "\n",
        "      return targets_corrections\n",
        "    \n",
        "    \n",
        "    #update the models\n",
        "    def update_models(self):\n",
        "        self.target_update_counter += 1\n",
        "\n",
        "        if self.target_update_counter >= self.target_update_frequency:\n",
        "          self.target_update_counter = 0\n",
        "\n",
        "          if self.soft_update:\n",
        "            new_weights = self.target_model.get_weights()\n",
        "            \n",
        "            #0 qmodel, 1 tmodel\n",
        "            for i, qw_tw in enumerate(zip(self.model.get_weights(), self.target_model.get_weights())):\n",
        "              new_weights[i] = qw_tw[1] * (1 - self.tau) + qw_tw[0] * self.tau\n",
        "\n",
        "            self.target_model.set_weights(new_weights)\n",
        "          \n",
        "          else:  \n",
        "            self.target_model.set_weights(self.model.get_weights())       \n",
        "            "
      ],
      "execution_count": null,
      "outputs": []
    },
    {
      "cell_type": "markdown",
      "metadata": {
        "id": "_QEm-0SojNzZ"
      },
      "source": [
        "**Dueling Networks NN, we change only the model**"
      ]
    },
    {
      "cell_type": "code",
      "metadata": {
        "id": "dDtkWQJhZnwz"
      },
      "source": [
        "num_actions = N_OUTS\n",
        "\n",
        "#definition of a dueling architecture\n",
        "def create_dueling_model(lr=LEARNING_RATE):\n",
        "  input = Input(shape=(INPUT_SHAPE))\n",
        "  \n",
        "  layer = input\n",
        "  layer = Dense(128, activation=\"relu\", input_shape=INPUT_SHAPE)(layer)\n",
        "  layer = Dense(64, activation=\"relu\")(layer)\n",
        "  layer = Dense(32, activation=\"relu\")(layer)\n",
        "\n",
        "  #v_s for current state\n",
        "  v_s = Dense(1)(layer)\n",
        "\n",
        "  #advantages\n",
        "  advantage = Dense(num_actions)(layer)\n",
        "\n",
        "  #qvalues --> Q(S_t, a_t) = v(s_t) + ( A(s_t, a) - mean(A(s_t, a) )\n",
        "  #np.mean(advantage, axis=1, keepdims=True) or tf.math.reduce_mean(advantage, axis=1, keepdims=True)\n",
        "  #keepdims=True retains reduced dimensions with length 1, https://www.tensorflow.org/api_docs/python/tf/math/reduce_mean\n",
        "  layer = ( v_s + (advantage - tf.math.reduce_mean(advantage, axis=1, keepdims=True)) )\n",
        "\n",
        "  dueling_model = Model(inputs=input, outputs=layer)\n",
        "  dueling_model.compile(loss=\"mse\", optimizer=Adam(learning_rate=lr))\n",
        "  \n",
        "  return dueling_model"
      ],
      "execution_count": null,
      "outputs": []
    },
    {
      "cell_type": "markdown",
      "metadata": {
        "id": "WM-tz0eHJOUq"
      },
      "source": [
        "# **Testing DQN**"
      ]
    },
    {
      "cell_type": "markdown",
      "metadata": {
        "id": "XZqFU8OgTWC3"
      },
      "source": [
        "Here we train and test the models (for 500 epochs each). The episodes maximum was temporarly fixed to 5 only to show the outputs of the methods and to clean up the notebook."
      ]
    },
    {
      "cell_type": "code",
      "metadata": {
        "id": "E4SLyZq2ILde"
      },
      "source": [
        "TEMPORARY_MAX=5 #500\n",
        "#path = '/content/drive/MyDrive/AAS_project/'\n",
        "path = '/content'"
      ],
      "execution_count": null,
      "outputs": []
    },
    {
      "cell_type": "code",
      "metadata": {
        "id": "Lwzea-AdnFf6"
      },
      "source": [
        "def export_routine(name, model, rh, m100, m50, sh, path):\n",
        "  s = path + \"/\" + name + \"_\" + str(TEMPORARY_MAX) + \"ep.h5\"\n",
        "\n",
        "  df = pd.DataFrame()\n",
        "  df['rh'] = rh\n",
        "  df['m100'] = m100\n",
        "  df['m50'] = m50\n",
        "  df['sh'] = sh\n",
        "\n",
        "  df.to_csv(path + \"/\" + name + \"_\" + str(TEMPORARY_MAX) + \"_logs.csv\")\n",
        "\n",
        "  model.save(s)"
      ],
      "execution_count": null,
      "outputs": []
    },
    {
      "cell_type": "code",
      "metadata": {
        "id": "8fCqLHnXJPMN",
        "colab": {
          "base_uri": "https://localhost:8080/"
        },
        "outputId": "f3a72ba4-b07c-4e8f-b5a1-1973877481ed"
      },
      "source": [
        "dqn = DQN(create_model=create_model, episodes_max=TEMPORARY_MAX)\n",
        "rh, m100, m50, _, sh = dqn.run_training(env)\n",
        "\n",
        "export_routine(name=\"dqn\", model=dqn, rh=rh, m100=m100, m50=m50, sh=sh, path=path)"
      ],
      "execution_count": null,
      "outputs": [
        {
          "output_type": "stream",
          "text": [
            "Episode:    1/5 (  0.20s). TotReward: -303.25.   Mean Reward (100|50|25 ep): [-303.25|-303.25|-303.25]   Steps:   82.   Eps: 0.96\n",
            "Episode:    2/5 (  3.33s). TotReward: -175.07.   Mean Reward (100|50|25 ep): [-239.16|-239.16|-239.16]   Steps:  108.   Eps: 0.91\n",
            "Episode:    3/5 (  2.73s). TotReward:  -92.74.   Mean Reward (100|50|25 ep): [-190.35|-190.35|-190.35]   Steps:   62.   Eps: 0.88\n",
            "Episode:    4/5 (  4.55s). TotReward: -244.36.   Mean Reward (100|50|25 ep): [-203.85|-203.85|-203.85]   Steps:  102.   Eps: 0.84\n",
            "Episode:    5/5 (  3.37s). TotReward: -298.64.   Mean Reward (100|50|25 ep): [-222.81|-222.81|-222.81]   Steps:   77.   Eps: 0.81\n"
          ],
          "name": "stdout"
        }
      ]
    },
    {
      "cell_type": "markdown",
      "metadata": {
        "id": "JgekzyJAzsWk"
      },
      "source": [
        "**Testing DQN + target model**"
      ]
    },
    {
      "cell_type": "code",
      "metadata": {
        "id": "9xXW9LB6zrnR",
        "colab": {
          "base_uri": "https://localhost:8080/"
        },
        "outputId": "d71a0551-16fd-43ca-c360-fa41c5f3d144"
      },
      "source": [
        "dqn = DQN(target_model=True, create_model=create_model, episodes_max=TEMPORARY_MAX)\n",
        "rh, m100, m50, _, sh = dqn.run_training(env)\n",
        "\n",
        "export_routine(\"dqn_target\", model=dqn, rh=rh, m100=m100, m50=m50, sh=sh, path=path)"
      ],
      "execution_count": null,
      "outputs": [
        {
          "output_type": "stream",
          "text": [
            "Episode:    1/5 (  0.02s). TotReward: -142.36.   Mean Reward (100|50|25 ep): [-142.36|-142.36|-142.36]   Steps:   95.   Eps: 0.95\n",
            "Episode:    2/5 (  4.28s). TotReward: -276.37.   Mean Reward (100|50|25 ep): [-209.36|-209.36|-209.36]   Steps:  118.   Eps: 0.90\n",
            "Episode:    3/5 (  5.76s). TotReward: -113.62.   Mean Reward (100|50|25 ep): [-177.45|-177.45|-177.45]   Steps:  128.   Eps: 0.84\n",
            "Episode:    4/5 (  3.94s). TotReward: -252.20.   Mean Reward (100|50|25 ep): [-196.14|-196.14|-196.14]   Steps:   86.   Eps: 0.81\n",
            "Episode:    5/5 (  5.82s). TotReward: -498.35.   Mean Reward (100|50|25 ep): [-256.58|-256.58|-256.58]   Steps:  115.   Eps: 0.76\n"
          ],
          "name": "stdout"
        }
      ]
    },
    {
      "cell_type": "markdown",
      "metadata": {
        "id": "22dUT4DeUTdI"
      },
      "source": [
        "**Testing DDQN**"
      ]
    },
    {
      "cell_type": "code",
      "metadata": {
        "id": "-LpjoKA1UU2H",
        "colab": {
          "base_uri": "https://localhost:8080/"
        },
        "outputId": "04d32ac1-40be-4674-f738-e76b3a8d77af"
      },
      "source": [
        "dqn = DDQN(soft_update=False, create_model=create_model, episodes_max=TEMPORARY_MAX)\n",
        "rh, m100, m50, _, sh = dqn.run_training(env)\n",
        "\n",
        "export_routine(\"ddqn\", model=dqn, rh=rh, m100=m100, m50=m50, sh=sh, path=path)"
      ],
      "execution_count": null,
      "outputs": [
        {
          "output_type": "stream",
          "text": [
            "Episode:    1/5 (  0.27s). TotReward: -431.15.   Mean Reward (100|50|25 ep): [-431.15|-431.15|-431.15]   Steps:  119.   Eps: 0.94\n",
            "Episode:    2/5 (  5.79s). TotReward: -460.75.   Mean Reward (100|50|25 ep): [-445.95|-445.95|-445.95]   Steps:   90.   Eps: 0.90\n",
            "Episode:    3/5 (  3.85s). TotReward:  -80.59.   Mean Reward (100|50|25 ep): [-324.16|-324.16|-324.16]   Steps:   84.   Eps: 0.86\n",
            "Episode:    4/5 (  4.60s). TotReward: -375.96.   Mean Reward (100|50|25 ep): [-337.11|-337.11|-337.11]   Steps:   93.   Eps: 0.82\n",
            "Episode:    5/5 (  4.42s). TotReward: -409.38.   Mean Reward (100|50|25 ep): [-351.56|-351.56|-351.56]   Steps:   89.   Eps: 0.79\n"
          ],
          "name": "stdout"
        }
      ]
    },
    {
      "cell_type": "code",
      "metadata": {
        "id": "STEukxfgS_wC"
      },
      "source": [
        "dqn = DDQN(soft_update=True, create_model=create_model, episodes_max=TEMPORARY_MAX)\n",
        "rh, m100, m50, _, sh = dqn.run_training(env)\n",
        "\n",
        "export_routine(\"ddqn\", model=dqn, rh=rh, m100=m100, m50=m50, sh=sh, path=path)"
      ],
      "execution_count": null,
      "outputs": []
    },
    {
      "cell_type": "markdown",
      "metadata": {
        "id": "H1vwSN0Ii5-y"
      },
      "source": [
        "**Dueling DQN**"
      ]
    },
    {
      "cell_type": "code",
      "metadata": {
        "id": "TTsrBkf3cV1v",
        "colab": {
          "base_uri": "https://localhost:8080/"
        },
        "outputId": "3895f49e-dc83-4528-d74d-2b829f885823"
      },
      "source": [
        "dqn = DQN(create_model=create_dueling_model, episodes_max=TEMPORARY_MAX)\n",
        "rh, m100, m50, _, sh = dqn.run_training(env)\n",
        "\n",
        "export_routine(\"dueling_dqn\", model=dqn, rh=rh, m100=m100, m50=m50, sh=sh, path=path)"
      ],
      "execution_count": null,
      "outputs": [
        {
          "output_type": "stream",
          "text": [
            "Episode:    1/5 (  0.16s). TotReward:    9.04.   Mean Reward (100|50|25 ep): [   9.04|   9.04|   9.04]   Steps:   89.   Eps: 0.96\n",
            "Episode:    2/5 (  3.31s). TotReward: -135.05.   Mean Reward (100|50|25 ep): [ -63.01| -63.01| -63.01]   Steps:  108.   Eps: 0.91\n",
            "Episode:    3/5 (  3.66s). TotReward:  -64.17.   Mean Reward (100|50|25 ep): [ -63.39| -63.39| -63.39]   Steps:   83.   Eps: 0.87\n",
            "Episode:    4/5 (  4.47s). TotReward: -143.20.   Mean Reward (100|50|25 ep): [ -83.34| -83.34| -83.34]   Steps:   99.   Eps: 0.83\n",
            "Episode:    5/5 (  6.00s). TotReward: -221.67.   Mean Reward (100|50|25 ep): [-111.01|-111.01|-111.01]   Steps:  117.   Eps: 0.78\n"
          ],
          "name": "stdout"
        }
      ]
    },
    {
      "cell_type": "markdown",
      "metadata": {
        "id": "kZ8jxtCZjDGh"
      },
      "source": [
        "**Dueling Double DQN (D3QN)**"
      ]
    },
    {
      "cell_type": "code",
      "metadata": {
        "id": "e1BZ8JrPkF3L",
        "colab": {
          "base_uri": "https://localhost:8080/"
        },
        "outputId": "fb6fa0a5-5968-4b0c-89d7-2e71078fad29"
      },
      "source": [
        "dqn = DDQN(soft_update=False, create_model=create_dueling_model, episodes_max=TEMPORARY_MAX)\n",
        "rh, m100, m50, _, sh = dqn.run_training(env)\n",
        "\n",
        "export_routine(\"d3qn\", model=dqn, rh=rh, m100=m100, m50=m50, sh=sh, path=path)"
      ],
      "execution_count": null,
      "outputs": [
        {
          "output_type": "stream",
          "text": [
            "Episode:    1/5 (  0.10s). TotReward: -346.76.   Mean Reward (100|50|25 ep): [-346.76|-346.76|-346.76]   Steps:   95.   Eps: 0.95\n",
            "Episode:    2/5 (  2.75s). TotReward: -132.40.   Mean Reward (100|50|25 ep): [-239.58|-239.58|-239.58]   Steps:   80.   Eps: 0.92\n",
            "Episode:    3/5 (  2.61s). TotReward: -170.10.   Mean Reward (100|50|25 ep): [-216.42|-216.42|-216.42]   Steps:   60.   Eps: 0.89\n",
            "Episode:    4/5 (  5.90s). TotReward: -284.92.   Mean Reward (100|50|25 ep): [-233.55|-233.55|-233.55]   Steps:  120.   Eps: 0.84\n",
            "Episode:    5/5 (  7.78s). TotReward: -258.37.   Mean Reward (100|50|25 ep): [-238.51|-238.51|-238.51]   Steps:  151.   Eps: 0.78\n"
          ],
          "name": "stdout"
        }
      ]
    },
    {
      "cell_type": "markdown",
      "metadata": {
        "id": "ME_L5I14ZJPm"
      },
      "source": [
        "**Testing model**"
      ]
    },
    {
      "cell_type": "code",
      "metadata": {
        "colab": {
          "base_uri": "https://localhost:8080/"
        },
        "id": "u8bb4pAKZL7Q",
        "outputId": "31b8e9bf-0e7c-444a-ec61-bc2b2e56b6f3"
      },
      "source": [
        "dqn = DQN(create_model=create_model, episodes_max=TEMPORARY_MAX)\n",
        "dqn.test(env, path=\"/content/drive/MyDrive/AAS_project/results/d3qn_500ep.h5\", render=False)"
      ],
      "execution_count": null,
      "outputs": [
        {
          "output_type": "stream",
          "text": [
            "Episode: 0, Reward: 309.08336087213434\n",
            "Episode: 1, Reward: 273.5187061761542\n",
            "Episode: 2, Reward: 300.4747033970141\n",
            "Episode: 3, Reward: 289.22167482668885\n",
            "Episode: 4, Reward: 249.89779886393075\n"
          ],
          "name": "stdout"
        }
      ]
    },
    {
      "cell_type": "markdown",
      "metadata": {
        "id": "0OiM1KqWXHSx"
      },
      "source": [
        "# **Conclusion**"
      ]
    },
    {
      "cell_type": "markdown",
      "metadata": {
        "id": "KW4kOzayXLIQ"
      },
      "source": [
        "Concluding, the results of all the experiments done are reported below (trained network + logs). The logs are .csv files that contain the reward history, the mean reward history for (100|50) last episodes and the steps per episode history. The .h5 files represent the trained and serialized network.\n",
        "\n",
        "You can download everything [here](https://drive.google.com/drive/folders/1uvXgLfkg-DP0Olj2bo8ToPh_u5lXKR3A?usp=sharing).\n",
        "\n",
        "The mean reward over the last 100 episodes are reported. All models were trained for 500 episodes:\n",
        "* **DQN**: 253.74\n",
        "* **DQN + target network**: 254.50\n",
        "* **DDQN**: 237.42\n",
        "* **DDQN with soft update**: 144.97\n",
        "* **Dueling DQN**: 238.49\n",
        "* **D3QN**: 270.73\n",
        "\n",
        "Concluding, two small videos to show the evolution of the models (here reported for DQN):\n",
        "* [early episodes](https://drive.google.com/file/d/1y9Qd_jo49qWvcBn8de9AH1HlBtqfTKpU/view?usp=sharing)\n",
        "* [last episode](https://drive.google.com/file/d/1XZWd7AKM4tr9R372mq-iOLWAROaKO-3E/view?usp=sharing)\n",
        "\n",
        "\n"
      ]
    },
    {
      "cell_type": "markdown",
      "metadata": {
        "id": "JnfYBQHFSp1a"
      },
      "source": [
        "![rainbow_small.png](data:image/png;base64,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)"
      ]
    },
    {
      "cell_type": "markdown",
      "metadata": {
        "id": "Y0HXOfhRWljz"
      },
      "source": [
        "# **References**"
      ]
    },
    {
      "cell_type": "markdown",
      "metadata": {
        "id": "eetGrAIFWn-2"
      },
      "source": [
        "Below I have reported a non exhaustive list of sources from which I was inspired for the project.\n",
        "\n",
        "Papers:\n",
        "* [DQN](https://arxiv.org/abs/1312.5602)\n",
        "* [DQN with target network (Fixed Q-Targets)](https://www.nature.com/articles/nature14236)\n",
        "* [Double DQN (DDQN)](https://arxiv.org/abs/1509.06461)\n",
        "* [Dueling DQN](https://arxiv.org/abs/1511.06581)\n",
        "* [Dueling Double DQN (D3QN)](https://ieeexplore.ieee.org/document/8483478)\n",
        "* [Rainbow paper](https://arxiv.org/abs/1710.02298)\n",
        "\n",
        "\n",
        "Articles, tutorials and repository I consulted:\n",
        "* https://medium.com/@parsa_h_m/deep-reinforcement-learning-dqn-double-dqn-dueling-dqn-noisy-dqn-and-dqn-with-prioritized-551f621a9823\n",
        "* https://github.com/Kaixhin/Rainbow\n",
        "* https://pylessons.com/CartPole-DDDQN/\n",
        "* https://www.researchgate.net/figure/DQN-hyperparameters-on-Lunar-Lander-Hyperparameters-marked-with-a-are-used-only-for_tbl2_340094887\n",
        "* https://eulertech.wordpress.com/2018/01/02/how-to-choose-the-number-of-hidden-layers-and-nodes-in-a-feedforward-neural-network/\n",
        "* https://medium.com/@gtnjuvin/my-journey-into-deep-q-learning-with-keras-and-gym-3e779cc12762\n",
        "* https://towardsdatascience.com/getting-an-ai-to-play-atari-pong-with-deep-reinforcement-learning-47b0c56e78ae\n",
        "* https://towardsdatascience.com/reinforcement-learning-w-keras-openai-dqns-1eed3a5338c\n",
        "* https://github.com/pythonlessons/Reinforcement_Learning\n",
        "* https://medium.com/@qempsil0914/deep-q-learning-part2-double-deep-q-network-double-dqn-b8fc9212bbb2\n",
        "* https://pythonprogramming.net/deep-q-learning-dqn-reinforcement-learning-python-tutorial/\n",
        "* https://cugtyt.github.io/blog/rl-notes/201807201658.html\n",
        "* https://zhuanlan.zhihu.com/p/365109764 (chinese)\n",
        "* https://cugtyt.github.io/blog/rl-notes/201807201658.html\n",
        "\n"
      ]
    }
  ]
}